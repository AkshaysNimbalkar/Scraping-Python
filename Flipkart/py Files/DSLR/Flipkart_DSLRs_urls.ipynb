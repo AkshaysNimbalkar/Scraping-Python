{
 "cells": [
  {
   "cell_type": "code",
   "execution_count": 2,
   "metadata": {},
   "outputs": [],
   "source": [
    "import os\n",
    "from selenium import webdriver \n",
    "from selenium.webdriver.common.by import By \n",
    "from selenium.webdriver.support.ui import WebDriverWait \n",
    "from selenium.webdriver.support import expected_conditions as EC\n",
    "from selenium.common.exceptions import TimeoutException\n",
    "import re\n",
    "import requests\n",
    "from bs4 import BeautifulSoup\n",
    "import pandas as pd\n",
    "import time"
   ]
  },
  {
   "cell_type": "code",
   "execution_count": 3,
   "metadata": {
    "scrolled": true
   },
   "outputs": [
    {
     "name": "stdout",
     "output_type": "stream",
     "text": [
      "Complete\n"
     ]
    }
   ],
   "source": [
    "def main():\n",
    "    global driver\n",
    "    driver = webdriver.Chrome(\"F:/Test/chromedriver.exe\")\n",
    "    links = [] \n",
    "    for i in range(1,7):\n",
    "        i = str(i)\n",
    "        driver.get(\"https://www.flipkart.com/cameras/pr?sid=jek%2Cp31&q=dslr&otracker=categorytree&page=\"+i)\n",
    "        try:\n",
    "            user_data = driver.find_elements_by_xpath('//a[@class=\"_31qSD5\"]')\n",
    "            \n",
    "            for i in user_data:\n",
    "                links.append(i.get_attribute('href'))\n",
    "            time.sleep(10)        \n",
    "        except TimeoutException as ex:\n",
    "            isrunning = 0\n",
    "            print(\"Exception has been thrown. \" + str(ex))\n",
    "            driver.close() \n",
    "            \n",
    "    df = pd.DataFrame(links)\n",
    "    df.to_csv('F:/Test/MX_Scraping/dslr_flipkart_urls.csv', index=False, header=False)\n",
    "               \n",
    "    #time.sleep(10)\n",
    "    \n",
    "    \n",
    "    print(\"Complete\")\n",
    "\n",
    "    \n",
    "if __name__ == '__main__':\n",
    "    main()\n",
    "    "
   ]
  },
  {
   "cell_type": "code",
   "execution_count": null,
   "metadata": {},
   "outputs": [],
   "source": []
  }
 ],
 "metadata": {
  "kernelspec": {
   "display_name": "Python 3",
   "language": "python",
   "name": "python3"
  },
  "language_info": {
   "codemirror_mode": {
    "name": "ipython",
    "version": 3
   },
   "file_extension": ".py",
   "mimetype": "text/x-python",
   "name": "python",
   "nbconvert_exporter": "python",
   "pygments_lexer": "ipython3",
   "version": "3.7.4"
  }
 },
 "nbformat": 4,
 "nbformat_minor": 2
}
