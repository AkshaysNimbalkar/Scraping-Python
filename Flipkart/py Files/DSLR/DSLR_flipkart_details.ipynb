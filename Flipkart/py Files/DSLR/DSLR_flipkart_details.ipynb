{
 "cells": [
  {
   "cell_type": "code",
   "execution_count": 1,
   "metadata": {},
   "outputs": [],
   "source": [
    "import os\n",
    "from selenium import webdriver \n",
    "from selenium.webdriver.common.by import By \n",
    "from selenium.webdriver.support.ui import WebDriverWait \n",
    "from selenium.webdriver.support import expected_conditions as EC\n",
    "from selenium.common.exceptions import TimeoutException\n",
    "import re\n",
    "import requests\n",
    "from bs4 import BeautifulSoup\n",
    "import pandas as pd\n",
    "import time"
   ]
  },
  {
   "cell_type": "code",
   "execution_count": 2,
   "metadata": {},
   "outputs": [
    {
     "name": "stdout",
     "output_type": "stream",
     "text": [
      "82\n"
     ]
    }
   ],
   "source": [
    "results = pd.read_csv('F:/Test/MX_Scraping/dslr_flipkart_urls.csv', names=[\"head\"])\n",
    "results = results['head'].tolist()\n",
    "print(len(results))"
   ]
  },
  {
   "cell_type": "code",
   "execution_count": 3,
   "metadata": {},
   "outputs": [],
   "source": [
    "driver = webdriver.Chrome(\"F:/Test/chromedriver.exe\")"
   ]
  },
  {
   "cell_type": "code",
   "execution_count": 11,
   "metadata": {},
   "outputs": [],
   "source": [
    "for j in range(len(results)):\n",
    "    try:\n",
    "        url = results[j]\n",
    "        driver.get(url)\n",
    "        soup = BeautifulSoup(driver.page_source, 'html.parser')\n",
    "\n",
    "        name = soup.find_all('span', {'class':'_35KyD6'})\n",
    "        if len(name)>0:\n",
    "            name = name[0].text\n",
    "        else:\n",
    "            name = \"Not Available\"\n",
    "            \n",
    "        mrp = soup.find_all('div', {'class':'_3auQ3N _1POkHg'})\n",
    "        if len(mrp) > 0:\n",
    "            mrp = mrp[0].text.replace('₹','').replace(',','')\n",
    "        else:\n",
    "            mrp = \"Not Available\"\n",
    "            \n",
    "        product = {'Name':name, 'URL':url, 'MRP':mrp}\n",
    "        specifications_all = {}\n",
    "\n",
    "\n",
    "        categories = ['General','Sensor Features', 'Lens Features', 'Viewfinder Features', 'Focus Features','Exposure Features', \n",
    "                    'Shutter Features', 'Flash Features', 'Image Features', 'Video Features', 'Audio Features', 'Display Features',\n",
    "                     'Storage Features', 'Power Features', 'Additional Features', 'Dimensions']        \n",
    "        \n",
    "        divisions = soup.find_all('div', {'class':'_2lzn0o'})\n",
    "\n",
    "        for i in range(len(divisions)):\n",
    "            if divisions[i].text in categories:\n",
    "                spec_table = soup.find_all('div', {'class':'_2RngUh'})[i].find('table', {'class':'_3ENrHu'}).find_all('tr', {'class':'_3_6Uyw row'})\n",
    "                labels = []\n",
    "                values = []\n",
    "                if len(spec_table) > 0:\n",
    "                    for tr in spec_table:\n",
    "                        td = tr.find_all('td')\n",
    "                        labels.append(td[0].text)\n",
    "                        values.append(td[1].text)\n",
    "                else:\n",
    "                    labels.append(\"General Info\")\n",
    "                    values.append(\"Not Available\")\n",
    "\n",
    "                specifications = (dict(zip(labels,values)))\n",
    "                specifications_all.update(specifications)\n",
    "\n",
    "        product.update(specifications_all)\n",
    "\n",
    "        df = pd.DataFrame.from_dict(data=product, orient='index')\n",
    "        df = df.T\n",
    "        #print(df)\n",
    "        df.to_csv('F:/Test/MX_Scraping/DSLR_Flipkart_details.csv', mode='a')\n",
    "        \n",
    "    except TimeoutException as ex:\n",
    "        isrunning = 0\n",
    "        print(\"Exception has been thrown. \" + str(ex))\n",
    "        driver.close()\n"
   ]
  },
  {
   "cell_type": "code",
   "execution_count": 4,
   "metadata": {},
   "outputs": [
    {
     "name": "stdout",
     "output_type": "stream",
     "text": [
      "{'Name': 'Nikon D5600 DSLR Camera Body with Dual Lens: AF-P DX Nikkor 18 - 55 MM F/3.5-5.6G VR and 70-300 MM F/4.5-6.3G ED VR (16 GB SD Card)\\xa0\\xa0(Black)', 'MRP': '66450', 'Brand': 'Nikon', 'Model Number': 'D5600', 'Model Name': 'D5600', 'SLR Variant': 'Body with Dual Lens: AF-P DX Nikkor 18 - 55 MM F/3.5-5.6G VR and 70-300 MM F/4.5-6.3G ED VR (16 GB SD Card)', 'Brand Color': 'Black', 'Type': 'DSLR', 'Color': 'Black', 'Effective Pixels': '24.2 MP', 'Tripod Socket': 'Yes', 'Wifi': 'Yes', 'Temperature': '0DegreeC - 40DegreeC', 'Ports': 'Hi-Speed USB with Micro USB Connector, Type C HDMI Connector', 'Accessory Shoe': 'ISO 518 Hot Shoe with Sync and Data Contacts and Safety Lock', 'Sensor Type': 'CMOS', 'ISO Rating': '100 - 25,600', 'Lens Construction': 'D-Zoom Kit: AF-P DX Nikkor 18 - 55 mm f/3.5-5.6G VR + AF-P DX Nikkor 70 - 300 mm f/4.5-6.3G ED VR', 'Maximum Aperture': 'F/5.6', 'Lens Type': 'Aoto Focus-S 18-140 mm VR Kit Lens', 'Lens Mount': 'Nikon F Mount', 'Dust Reduction': 'Yes', 'Compatible Lens': 'Nikkor Lens', 'Manual Focus': 'Yes', 'View Finder': 'Yes', 'View Finder Type': 'Eye Level Pentamirror Single Lens Reflex Viewfinder', 'Metering Modes': 'Matrix Metering: 3D Color Matrix Metering 2 (type G, E, and D Lenses), Color Matrix Metering 2 (other CPU Lenses) Center-weighted Metering - Weight of 75% Given to 8 mm Circle in Center of Frame Spot Metering - Meters 3.5 mm Circle (about 2.5% of Frame) Centered on Selected Focus Point', 'Auto Focus': 'Yes', 'Focus Points': '4800DX 39-Point AF Sensor', 'White Balancing': 'Auto, Incandescent, Fluorescent (7 Types), Direct Sunlight, Flash, Cloudy, Shade, Preset Manual, All Except Preset Manual with Fine-tuning', 'Scene Modes': 'Auto and Auto Flash Off Modes', 'Exposure Mode': 'Automatic', 'Exposure Compensation': '-5 to +5 EV in Steps of 1/3 or 1/2 EV in P, S, A, M, Scene, Night Vision Modes', 'Shutter Speed': '1/4000 - 30 sec', 'Release Modes': 'Yes', 'Self-timer': 'Yes', 'Continuous Shots': '5fps shooting', 'Built-in Flash': 'Yes', 'Flash Modes': 'Auto, Auto with Red-eye Reduction, Auto Slow Sync, Auto Slow Sync with Red-eye Reduction, Fll-flash, Red-eye Reduction, Slow Sync, Slow Sync with Red-eye Reduction, Rear-curtain with Slow Sync, Rear-curtain Sync, Off', 'Flash Compensation': '-3 to +1 EV in Steps of 1/3 or 1/2 EV in P, S, A, M, and Scene Modes', 'Other Flash Features': 'Auto, Portrait, Child, Close Up, Night Portrait, Party / Indoor, Pet Portrait, Super Vivid, Pop, Photo Illustration, Toy Camera Effect, Auto Flash with Auto Pop-up P, S, A, M, Food, Manual Pop-up with Button Release', 'Image Size': '(L) 6000 x 4000, (M) 4496 x 3000, (S) 2992 x 2000', 'Image Format': 'JPEG, JPEG RAW', 'Wide Angle': 'Yes', 'Red Eye Reduction': 'Yes', 'Video Resolution': '1920 x 1080', 'Video Quality': '1080p recording at 30p', 'Video Format': 'H.264/MPEG-4 Advanced Video Coding', 'Microphone': 'Yes', 'Other Audio Features': 'Linear PCM', 'Display Type': 'TFT LCD', 'Touch Screen': 'Yes', 'Compatible Card': 'SD Card', 'Batteries Included': 'Yes', 'Battery Type': 'Rechargeable Li-ion', 'Other Power Features': 'AC Adapter EH-5b', 'Weight': '465 g'}\n"
     ]
    }
   ],
   "source": [
    "\n",
    "try:\n",
    "    driver.get('https://www.flipkart.com/nikon-d5600-dslr-camera-body-dual-lens-af-p-dx-nikkor-18-55-mm-f-3-5-5-6g-vr-70-300-f-4-5-6-3g-ed-16-gb-sd-card/p/itmezvbdg2azkujh?pid=DLLEZVB8MDXDYTHG&lid=LSTDLLEZVB8MDXDYTHGCGYU2R&marketplace=FLIPKART&srno=s_1_1&otracker=search&fm=SEARCH&iid=a0e4249e-7d9e-4cdc-bc63-54bbe851f2d6.DLLEZVB8MDXDYTHG.SEARCH&ppt=browse&ppn=browse&qH=ac7edfe844c3c5f1')\n",
    "    soup = BeautifulSoup(driver.page_source, 'html.parser')\n",
    "    \n",
    "    name = soup.find_all('span', {'class':'_35KyD6'})[0].text\n",
    "    mrp = soup.find_all('div', {'class':'_3auQ3N _1POkHg'})[0].text.replace('₹','').replace(',','')\n",
    "    product = {'Name':name, 'MRP':mrp}\n",
    "    specifications_all = {}\n",
    "\n",
    "    \n",
    "    categories = ['General','Sensor Features', 'Lens Features', 'Viewfinder Features', 'Focus Features','Exposure Features', \n",
    "                    'Shutter Features', 'Flash Features', 'Image Features', 'Video Features', 'Audio Features', 'Display Features',\n",
    "                     'Storage Features', 'Power Features', 'Additional Features', 'Dimensions']\n",
    "    \n",
    "    divisions = soup.find_all('div', {'class':'_2lzn0o'})\n",
    "    \n",
    "    for i in range(len(divisions)):\n",
    "        if divisions[i].text in categories:\n",
    "            spec_table = soup.find_all('div', {'class':'_2RngUh'})[i].find('table', {'class':'_3ENrHu'}).find_all('tr', {'class':'_3_6Uyw row'})\n",
    "            labels = []\n",
    "            values = []\n",
    "            if len(spec_table) > 0:\n",
    "                for tr in spec_table:\n",
    "                    td = tr.find_all('td')\n",
    "                    labels.append(td[0].text)\n",
    "                    values.append(td[1].text)\n",
    "            else:\n",
    "                labels.append(\"General Info\")\n",
    "                values.append(\"Not Available\")\n",
    "\n",
    "            specifications = (dict(zip(labels,values)))\n",
    "            specifications_all.update(specifications)\n",
    "            \n",
    "    product.update(specifications_all)\n",
    "    print(product)\n",
    "    \n",
    "except TimeoutException as ex:\n",
    "    isrunning = 0\n",
    "    print(\"Exception has been thrown. \" + str(ex))\n",
    "    driver.close()\n",
    "    \n",
    "\n",
    "        \n",
    "    "
   ]
  }
 ],
 "metadata": {
  "kernelspec": {
   "display_name": "Python 3",
   "language": "python",
   "name": "python3"
  },
  "language_info": {
   "codemirror_mode": {
    "name": "ipython",
    "version": 3
   },
   "file_extension": ".py",
   "mimetype": "text/x-python",
   "name": "python",
   "nbconvert_exporter": "python",
   "pygments_lexer": "ipython3",
   "version": "3.7.4"
  }
 },
 "nbformat": 4,
 "nbformat_minor": 2
}
